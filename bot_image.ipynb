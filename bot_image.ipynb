{
 "cells": [
  {
   "cell_type": "code",
   "execution_count": 0,
   "metadata": {
    "application/vnd.databricks.v1+cell": {
     "cellMetadata": {
      "byteLimit": 2048000,
      "rowLimit": 10000
     },
     "inputWidgets": {},
     "nuid": "794ca429-f36f-4a8a-8762-30a6d63d3363",
     "showTitle": false,
     "title": ""
    }
   },
   "outputs": [],
   "source": [
    "import pandas as pd\n",
    "import numpy as np\n",
    "import matplotlib.pyplot as plt\n",
    "import matplotlib.patches as mpatches\n",
    "import matplotlib.ticker as mticker\n",
    "import seaborn as sns\n",
    "from scipy.stats import zscore, norm, spearmanr, pearsonr, ttest_ind\n",
    "from datetime import datetime, timedelta\n",
    "from itertools import product\n",
    "import geopy.distance\n",
    "from itertools import islice\n",
    "from tqdm import tqdm\n",
    "from sklearn.preprocessing import StandardScaler, MinMaxScaler, RobustScaler\n",
    "from pyod.models.mad import MAD"
   ]
  },
  {
   "cell_type": "code",
   "execution_count": 0,
   "metadata": {
    "application/vnd.databricks.v1+cell": {
     "cellMetadata": {
      "byteLimit": 2048000,
      "rowLimit": 10000
     },
     "inputWidgets": {},
     "nuid": "45492c24-66ea-419b-9f2e-0f9131b7b4a1",
     "showTitle": false,
     "title": ""
    }
   },
   "outputs": [],
   "source": [
    "params={}\n",
    "\n",
    "params['global_start']='2023-10-09'\n",
    "params['global_end']='2023-10-15'\n",
    "\n",
    "params['global_start_ly']='2022-10-10'\n",
    "params['global_end_ly']='2022-10-16'\n",
    "\n",
    "params['subq']=\"\"\" select * from delta.`/mnt/datalake/data/gold/DepartmentUnitsInfo` where businessid='DodoPizza' \"\"\"\n",
    "params"
   ]
  },
  {
   "cell_type": "code",
   "execution_count": 0,
   "metadata": {
    "application/vnd.databricks.v1+cell": {
     "cellMetadata": {
      "byteLimit": 2048000,
      "rowLimit": 10000
     },
     "inputWidgets": {},
     "nuid": "9c746b98-3eb1-42e5-a396-e2ca0e41abca",
     "showTitle": false,
     "title": ""
    }
   },
   "outputs": [],
   "source": [
    "query=\"\"\"\n",
    "select \n",
    "b.countryid, 'ty' as period, unitid,  \n",
    "count(distinct orderid) as tickets, sum(cast(producttotalprice as float)) as rto, count(*) as qty, sum(cast(menuprice as float)) as rto_do\n",
    "from\n",
    "(select * from delta.`/mnt/datalake/data/gold/OrderCompositionExtendedWithCombo`\n",
    "where \n",
    "categoryid>0 and date>='{global_start}' and date<='{global_end}' and businessid='DodoPizza' and categoryid!=5) a\n",
    "  inner join ({subq}) b on a.unituuid=b.uuid\n",
    "group by\n",
    "b.countryid, unitid\n",
    "\n",
    "union all\n",
    "\n",
    "select \n",
    "b.countryid, 'ly' as period, unitid, \n",
    "count(distinct orderid) as tickets, sum(cast(producttotalprice as float)) as rto, count(*) as qty, sum(cast(menuprice as float)) as rto_do\n",
    "from\n",
    "(select * from delta.`/mnt/datalake/data/gold/OrderCompositionExtendedWithCombo`\n",
    "where \n",
    "categoryid>0 and date>='{global_start_ly}' and date<='{global_end_ly}' and businessid='DodoPizza'and categoryid!=5) a \n",
    "  inner join ({subq}) b on a.unituuid=b.uuid\n",
    "group by\n",
    "b.countryid, unitid\"\"\".format(**params)\n",
    "df_lfl=spark.sql(query).toPandas()"
   ]
  },
  {
   "cell_type": "code",
   "execution_count": 0,
   "metadata": {
    "application/vnd.databricks.v1+cell": {
     "cellMetadata": {
      "byteLimit": 2048000,
      "rowLimit": 10000
     },
     "inputWidgets": {},
     "nuid": "3edabcc7-ac86-4dc7-8446-498e7f3b3ba2",
     "showTitle": false,
     "title": ""
    }
   },
   "outputs": [],
   "source": [
    "df_lfl=pd.merge(df_lfl.groupby(['countryid','unitid'])[['period']].count().query('period==2').reset_index().iloc[:,:2],\n",
    "         df_lfl,\n",
    "         how='inner',\n",
    "         on=['countryid','unitid']\n",
    ")\n",
    "\n",
    "df_lfl_ty=df_lfl.query('period==\"ty\"').drop('period', axis='columns')\n",
    "df_lfl_ly=df_lfl.query('period==\"ly\"').drop('period', axis='columns')\n",
    "\n",
    "df_lfl=pd.merge(df_lfl_ty, df_lfl_ly, how='inner', on=['countryid','unitid'], suffixes=('_ty','_ly'))\n",
    "\n",
    "df_lfl=df_lfl.groupby('countryid', as_index=False).agg('sum').drop('unitid',axis='columns')\n",
    "df_lfl.head(3)"
   ]
  },
  {
   "cell_type": "code",
   "execution_count": 0,
   "metadata": {
    "application/vnd.databricks.v1+cell": {
     "cellMetadata": {
      "byteLimit": 2048000,
      "rowLimit": 10000
     },
     "inputWidgets": {},
     "nuid": "e4421c54-985d-44a7-bb07-05183a684b9e",
     "showTitle": false,
     "title": ""
    }
   },
   "outputs": [],
   "source": [
    "for i in ['_ty','_ly']:\n",
    "  df_lfl['avg_price_do'+i]=df_lfl['rto_do'+i]/df_lfl['qty'+i]\n",
    "  df_lfl['complexity'+i]=df_lfl['qty'+i]/df_lfl['tickets'+i]\n",
    "  df_lfl['discount'+i]=(df_lfl['rto_do'+i]-df_lfl['rto'+i])/df_lfl['rto_do'+i]\n",
    "  \n",
    "df_lfl.head(3)"
   ]
  },
  {
   "cell_type": "code",
   "execution_count": 0,
   "metadata": {
    "application/vnd.databricks.v1+cell": {
     "cellMetadata": {
      "byteLimit": 2048000,
      "rowLimit": 10000
     },
     "inputWidgets": {},
     "nuid": "f579becc-5b66-4d1f-ad54-a84d37a990ec",
     "showTitle": false,
     "title": ""
    }
   },
   "outputs": [],
   "source": [
    "query=\"\"\"\n",
    "select \n",
    "b.countryid, 'ty' as period, unitid, productid, count(*) as qty, sum(cast(menuprice as float)) as rto_do\n",
    "from\n",
    "(select * from delta.`/mnt/datalake/data/gold/OrderCompositionExtendedWithCombo`\n",
    "where categoryid>0 and date>='{global_start}' and date<='{global_end}' and incombo=0 and businessid='DodoPizza' and categoryid!=5) a inner join ({subq}) b on a.unituuid=b.uuid\n",
    "group by\n",
    "b.countryid, unitid, productid\n",
    "\n",
    "union all\n",
    "\n",
    "select \n",
    "b.countryid, 'ly' as period, unitid, productid, count(*) as qty, sum(cast(menuprice as float)) as rto_do\n",
    "from\n",
    "(select * from delta.`/mnt/datalake/data/gold/OrderCompositionExtendedWithCombo`\n",
    "where categoryid>0 and date>='{global_start_ly}' and date<='{global_end_ly}' and incombo=0 and businessid='DodoPizza' and categoryid!=5) a inner join ({subq}) b on a.unituuid=b.uuid\n",
    "group by\n",
    "b.countryid, unitid, productid\"\"\".format(**params)\n",
    "df_infl=spark.sql(query).toPandas()\n",
    "\n",
    "df_infl=pd.merge(df_infl.groupby(['countryid','unitid'])[['period']].nunique().query('period==2').reset_index().iloc[:,:2],\n",
    "         df_infl,\n",
    "         how='inner',\n",
    "         on=['countryid','unitid']\n",
    ")\n",
    "\n",
    "df_infl=df_infl.groupby(['countryid','period','productid'], as_index=False).agg({'qty':'sum','rto_do':'sum'})\n",
    "\n",
    "df_infl=pd.merge(df_infl.query('period==\"ty\"').drop('period',axis='columns'), \n",
    "         df_infl.query('period==\"ly\"').drop('period',axis='columns'),\n",
    "         how='inner',\n",
    "         on=['countryid','productid'],\n",
    "         suffixes=('_ty','_ly')\n",
    "        )\n",
    "\n",
    "\n",
    "df_infl['price_ly']=df_infl['rto_do_ly']/df_infl['qty_ly']\n",
    "df_infl['rto_do_ty_to_be']=df_infl['price_ly']*df_infl['qty_ty']\n",
    "\n",
    "df_infl=pd.DataFrame(df_infl.groupby('countryid')[['rto_do_ty','rto_do_ty_to_be']].sum().apply(lambda x: x['rto_do_ty']/x['rto_do_ty_to_be']-1, axis=1), columns=['inflation'])"
   ]
  },
  {
   "cell_type": "code",
   "execution_count": 0,
   "metadata": {
    "application/vnd.databricks.v1+cell": {
     "cellMetadata": {
      "byteLimit": 2048000,
      "rowLimit": 10000
     },
     "inputWidgets": {},
     "nuid": "a1ce3ce8-1502-4384-b03b-ad02d259feb8",
     "showTitle": false,
     "title": ""
    }
   },
   "outputs": [],
   "source": [
    "df_lfl=pd.merge(df_lfl, df_infl.reset_index(), how='inner', on='countryid')"
   ]
  },
  {
   "cell_type": "code",
   "execution_count": 0,
   "metadata": {
    "application/vnd.databricks.v1+cell": {
     "cellMetadata": {
      "byteLimit": 2048000,
      "rowLimit": 10000
     },
     "inputWidgets": {},
     "nuid": "4f3b2a2f-2b22-4a63-a1e6-6ffcca2dc631",
     "showTitle": false,
     "title": ""
    }
   },
   "outputs": [],
   "source": [
    "df_lfl['price_do_chg']=df_lfl['avg_price_do_ty']/df_lfl['avg_price_do_ly']-1\n",
    "df_lfl['mix']=(1+df_lfl['price_do_chg'])/(1+df_lfl['inflation'])-1\n",
    "df_lfl['rto_lfl_chg_as_is']=df_lfl['rto_ty']/df_lfl['rto_ly']-1"
   ]
  },
  {
   "cell_type": "code",
   "execution_count": 0,
   "metadata": {
    "application/vnd.databricks.v1+cell": {
     "cellMetadata": {
      "byteLimit": 2048000,
      "rowLimit": 10000
     },
     "inputWidgets": {},
     "nuid": "bf50845b-0293-42be-ad9e-0c3926e65eab",
     "showTitle": false,
     "title": ""
    }
   },
   "outputs": [],
   "source": [
    "bl=df_lfl['rto_ly']\n",
    "\n",
    "df_lfl['tickets_impact']=df_lfl['rto_lfl_chg_as_is']-\\\n",
    "          ((df_lfl['tickets_ly']*df_lfl['complexity_ty']*df_lfl['avg_price_do_ly']*(1+df_lfl['inflation'])*(1+df_lfl['mix'])*(1-df_lfl['discount_ty']))/bl-1)\n",
    "\n",
    "\n",
    "df_lfl['complexity_impact']=df_lfl['rto_lfl_chg_as_is']-\\\n",
    "          ((df_lfl['tickets_ty']*df_lfl['complexity_ly']*df_lfl['avg_price_do_ly']*(1+df_lfl['inflation'])*(1+df_lfl['mix'])*(1-df_lfl['discount_ty']))/bl-1)\n",
    "  \n",
    "\n",
    "df_lfl['inflation_impact']=df_lfl['rto_lfl_chg_as_is']-\\\n",
    "          ((df_lfl['tickets_ty']*df_lfl['complexity_ty']*df_lfl['avg_price_do_ly']*(1+df_lfl['mix'])*(1-df_lfl['discount_ty']))/bl-1)\n",
    "  \n",
    "\n",
    "df_lfl['mix_impact']=df_lfl['rto_lfl_chg_as_is']-\\\n",
    "          ((df_lfl['tickets_ty']*df_lfl['complexity_ty']*df_lfl['avg_price_do_ly']*(1+df_lfl['inflation'])*(1-df_lfl['discount_ty']))/bl-1)\n",
    "  \n",
    "\n",
    "df_lfl['discount_impact']=df_lfl['rto_lfl_chg_as_is']-\\\n",
    "          ((df_lfl['tickets_ty']*df_lfl['complexity_ty']*df_lfl['avg_price_do_ly']*(1+df_lfl['inflation'])*(1+df_lfl['mix'])*(1-df_lfl['discount_ly']))/bl-1)"
   ]
  },
  {
   "cell_type": "code",
   "execution_count": 0,
   "metadata": {
    "application/vnd.databricks.v1+cell": {
     "cellMetadata": {
      "byteLimit": 2048000,
      "rowLimit": 10000
     },
     "inputWidgets": {},
     "nuid": "43a15a1c-eb51-4331-a6f2-37a9a14dbba0",
     "showTitle": false,
     "title": ""
    }
   },
   "outputs": [],
   "source": [
    "fig, ax=plt.subplots(nrows=1, ncols=1, figsize=(9,5))\n",
    "fig.suptitle('Sales LFL decomposition by key factors')\n",
    "\n",
    "df_temp=df_lfl.set_index('countryid').sort_values(by='rto_lfl_chg_as_is', ascending=False).iloc[:, -5:]\n",
    "df_temp.columns=[x.replace('_impact','') for x in df_temp.columns]\n",
    "df_temp.plot(kind='bar', stacked=True, ax=ax, alpha=0.7)\n",
    "\n",
    "for c in ax.containers:\n",
    "    labels = [np.round(v.get_height()*100,1) for v in c]\n",
    "    ax.bar_label(c, labels=labels, label_type='center', fontsize=8)\n",
    "\n",
    "\n",
    "df_lfl.set_index('countryid').sort_values(by='rto_lfl_chg_as_is', ascending=False).rename(columns={'rto_lfl_chg_as_is':'lfl total'})['lfl total'].plot(ax=ax, marker='.', color='black')\n",
    "ax.axhline(0, color='black')\n",
    "ax.grid(linestyle='--', alpha=0.4)\n",
    "\n",
    "ax.set_xlabel('')\n",
    "ax.set_ylabel('lfl %', backgroundcolor='lightgrey')\n",
    "\n",
    "ax.legend(bbox_to_anchor=(1.25,1))\n",
    "\n",
    "vals = ax.get_yticks()\n",
    "ax.set_yticklabels(['{:,.1%}'.format(x) for x in vals])\n",
    "\n",
    "ax.tick_params(axis='x', labelrotation = 0)"
   ]
  },
  {
   "cell_type": "code",
   "execution_count": 0,
   "metadata": {
    "application/vnd.databricks.v1+cell": {
     "cellMetadata": {
      "byteLimit": 2048000,
      "rowLimit": 10000
     },
     "inputWidgets": {},
     "nuid": "3fc5ef86-72de-46eb-b3e2-ef748f4cb983",
     "showTitle": false,
     "title": ""
    }
   },
   "outputs": [],
   "source": [
    "fig.savefig(\"output_images.jpg\", bbox_inches='tight')"
   ]
  },
  {
   "cell_type": "code",
   "execution_count": 0,
   "metadata": {
    "application/vnd.databricks.v1+cell": {
     "cellMetadata": {},
     "inputWidgets": {},
     "nuid": "6da49f4b-cc74-464b-961e-d645122ceace",
     "showTitle": false,
     "title": ""
    }
   },
   "outputs": [],
   "source": []
  }
 ],
 "metadata": {
  "application/vnd.databricks.v1+notebook": {
   "dashboards": [],
   "language": "python",
   "notebookMetadata": {
    "mostRecentlyExecutedCommandWithImplicitDF": {
     "commandId": 566422136249412,
     "dataframes": [
      "_sqldf"
     ]
    },
    "pythonIndentUnit": 2
   },
   "notebookName": "bot_image",
   "widgets": {}
  }
 },
 "nbformat": 4,
 "nbformat_minor": 0
}
